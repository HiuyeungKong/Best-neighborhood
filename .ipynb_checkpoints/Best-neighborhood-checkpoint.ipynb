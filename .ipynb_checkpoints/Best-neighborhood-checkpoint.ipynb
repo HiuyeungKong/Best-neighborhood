{
 "cells": [
  {
   "cell_type": "markdown",
   "metadata": {},
   "source": [
    "# Best Neighborhood"
   ]
  },
  {
   "cell_type": "markdown",
   "metadata": {},
   "source": [
    "## Introduction"
   ]
  },
  {
   "cell_type": "markdown",
   "metadata": {},
   "source": [
    "..."
   ]
  },
  {
   "cell_type": "markdown",
   "metadata": {},
   "source": [
    "## Metrics"
   ]
  },
  {
   "cell_type": "markdown",
   "metadata": {},
   "source": [
    "### Traffic"
   ]
  },
  {
   "cell_type": "markdown",
   "metadata": {},
   "source": [
    "Kong's metric: traffic.\n",
    "\n",
    "As we go on about our daily commutes in the morning and afternoon. the amount of traffic is a big factor that determines how much time we spend on traveling. Even if you are simply walking to school or work, the concurrent traffic will decide how long you need to wait at traffic lights. You might know that traffic congestion is a big problem in densely populated citys, for example, LA. Also, traffic congestion increases vehicle emissions which degrades the air quality. Thus, I think low volume of traffic is a good indicator for finding the best neighborhoods in Pittsbugrh. I'll be using the average daily car traffic count of a neighborhood to determine its overall level of traffic."
   ]
  },
  {
   "cell_type": "markdown",
   "metadata": {},
   "source": [
    "### Result"
   ]
  },
  {
   "cell_type": "raw",
   "metadata": {},
   "source": []
  },
  {
   "cell_type": "markdown",
   "metadata": {},
   "source": [
    "## Conclusion"
   ]
  },
  {
   "cell_type": "markdown",
   "metadata": {},
   "source": [
    "After analyzing the best neighborhood in pittsburgh based on our metrics: environment, traffic, and death rate, we conclude that Squirrel Hill South is the best neighborhood because it's ranked high based on all of our factors: 6th in environment and 2th in traffic."
   ]
  },
  {
   "cell_type": "code",
   "execution_count": null,
   "metadata": {},
   "outputs": [],
   "source": []
  }
 ],
 "metadata": {
  "kernelspec": {
   "display_name": "Python 3",
   "language": "python",
   "name": "python3"
  },
  "language_info": {
   "codemirror_mode": {
    "name": "ipython",
    "version": 3
   },
   "file_extension": ".py",
   "mimetype": "text/x-python",
   "name": "python",
   "nbconvert_exporter": "python",
   "pygments_lexer": "ipython3",
   "version": "3.8.3"
  }
 },
 "nbformat": 4,
 "nbformat_minor": 4
}
