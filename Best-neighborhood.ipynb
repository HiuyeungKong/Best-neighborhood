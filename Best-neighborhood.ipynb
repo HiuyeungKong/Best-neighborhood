{
 "cells": [
  {
   "cell_type": "markdown",
   "metadata": {},
   "source": [
    "# Best Neighborhood"
   ]
  },
  {
   "cell_type": "markdown",
   "metadata": {},
   "source": [
    "## Introduction"
   ]
  },
  {
   "cell_type": "markdown",
   "metadata": {},
   "source": [
    "..."
   ]
  },
  {
   "cell_type": "markdown",
   "metadata": {},
   "source": [
    "## Metrics"
   ]
  },
  {
   "cell_type": "markdown",
   "metadata": {},
   "source": [
    "### Traffic"
   ]
  },
  {
   "cell_type": "markdown",
   "metadata": {},
   "source": [
    "Kong's metric: traffic.\n",
    "\n",
    "As we go on about our daily commutes in the morning and afternoon. the amount of traffic is a big factor that determines how much time we spend on traveling. Even if you are simply walking to school or work, the concurrent traffic will decide how long you need to wait at traffic lights. You might know that traffic congestion is a big problem in densely populated citys, for example, LA. Also, traffic congestion increases vehicle emissions which degrades the air quality. Thus, I think low volume of traffic is a good indicator for finding the best neighborhoods in Pittsbugrh. I'll be using the average daily car traffic count of a neighborhood to determine its overall level of traffic."
   ]
  },
  {
   "cell_type": "markdown",
   "metadata": {},
   "source": [
    "### Result"
   ]
  },
  {
   "cell_type": "raw",
   "metadata": {},
   "source": []
  },
  {
   "cell_type": "markdown",
   "metadata": {},
   "source": [
    "## Nathan's metric: Environment\n",
    "\n",
    "Environmental quality is an important issue today, for multiple reasons. First, the dangers of climate change are well-known and increasing, and we would prefer a neighborhood that does its part in protecting the planet, as well as the health of its residents in this way. Moreover, these neighborhoods will likely include more nature for recreation. With these benefits, it is natural to examine this variable as a way of determining neighborhood quality.\n",
    "\n",
    "In order to examine it, I will be using the \"City of Pittsburgh Trees\" dataset. While it is a couple of years out of date (2020), it should still give a reasonable approximation to how the environmental priorities of these neighborhoods stand today. There are still several issues we need to work out to analyze the data in a reasonable manner; see the file `Trees.ipynb` for details. The final top-16 ranking is displayed below."
   ]
  },
  {
   "cell_type": "markdown",
   "metadata": {},
   "source": [
    "## Conclusion"
   ]
  },
  {
   "cell_type": "markdown",
   "metadata": {},
   "source": [
    "After analyzing the best neighborhood in pittsburgh based on our metrics: environment, traffic, and death rate, we conclude that Squirrel Hill South is the best neighborhood because it's ranked high based on all of our factors: 6th in environment and 2th in traffic."
   ]
  },
  {
   "cell_type": "code",
   "execution_count": null,
   "metadata": {},
   "outputs": [],
   "source": []
  }
 ],
 "metadata": {
  "kernelspec": {
   "display_name": "Python 3",
   "language": "python",
   "name": "python3"
  },
  "language_info": {
   "codemirror_mode": {
    "name": "ipython",
    "version": 3
   },
   "file_extension": ".py",
   "mimetype": "text/x-python",
   "name": "python",
   "nbconvert_exporter": "python",
   "pygments_lexer": "ipython3",
   "version": "3.8.3"
  }
 },
 "nbformat": 4,
 "nbformat_minor": 4
}
